{
 "cells": [
  {
   "cell_type": "markdown",
   "metadata": {},
   "source": [
    "# Handwritten digit Recognition with Keras"
   ]
  },
  {
   "cell_type": "markdown",
   "metadata": {},
   "source": [
    "*This is a [tutorial](https://machinelearningmastery.com/how-to-develop-a-convolutional-neural-network-from-scratch-for-mnist-handwritten-digit-classification/) taken from MachineLearningMastery.com written by Jason Brownlee. Accessed on the 27th Aug 2019*"
   ]
  },
  {
   "cell_type": "markdown",
   "metadata": {},
   "source": [
    "**Sanket Mehrotra**"
   ]
  },
  {
   "cell_type": "markdown",
   "metadata": {},
   "source": [
    "Performing this tutorial with a few goals in mind:\n",
    "\n",
    "        1. How to devlop an effective test harness to develop a robust evaluation of the model and establish a baseline of performance for a classification task\n",
    "        \n",
    "        2. How to explore extentions to a baseline model to improve baseline learning and model capacity\n",
    "        \n",
    "        3. how to develop a finalized model, evaluate the perfomance of the final model, and use it to make predictions on new images."
   ]
  },
  {
   "cell_type": "markdown",
   "metadata": {},
   "source": [
    "In laymans terms:\n",
    "    \n",
    "    1. How to load the MNIST dataset in Keras.\n",
    "    2. How to develop and evaluate a baseline neural network model for the MNIST problem.\n",
    "    3. How to implement and evaluate a simple Convolutional Neural Network for MNIST.\n",
    "    4. How to implement a close to state-of-the-art deep learning model for MNIST.\n"
   ]
  },
  {
   "cell_type": "markdown",
   "metadata": {},
   "source": [
    "This tutorial is divided into five parts; they are:\n",
    "\n",
    "    1. MNIST Handwritten Digit Classification Dataset\n",
    "    2. Model Evaluation Methodology\n",
    "    3. How to Develop a Baseline Model\n",
    "    4. How to Develop an Improved Model\n",
    "    5. How to Finalize the Model and Make Predictions\n"
   ]
  },
  {
   "cell_type": "code",
   "execution_count": 3,
   "metadata": {},
   "outputs": [
    {
     "name": "stdout",
     "output_type": "stream",
     "text": [
      "Train X=(60000, 28, 28), y=(60000,)\n",
      "Test X=(10000, 28, 28), y=(10000,)\n"
     ]
    },
    {
     "data": {
      "image/png": "[encoded data removed]",
      "text/plain": [
       "<Figure size 432x288 with 9 Axes>"
      ]
     },
     "metadata": {
      "needs_background": "light"
     },
     "output_type": "display_data"
    }
   ],
   "source": [
    "from keras.datasets import mnist\n",
    "import matplotlib.pyplot as plt\n",
    "\n",
    "from numpy import mean\n",
    "from numpy import std\n",
    "from sklearn.model_selection import KFold\n",
    "from keras.utils import to_categorical\n",
    "from keras.models import Sequential\n",
    "from keras.layers import Conv2D\n",
    "from keras.layers import MaxPooling2D\n",
    "from keras.layers import Dense\n",
    "from keras.layers import Flatten\n",
    "from keras.optimizers import SGD\n",
    "\n",
    "\n",
    "\n",
    "(trainX,trainY),(testX,testY) = mnist.load_data()\n",
    "\n",
    "print('Train X=%s, y=%s' % (trainX.shape,trainY.shape))\n",
    "print('Test X=%s, y=%s' % (testX.shape,testY.shape))\n",
    "\n",
    "for i in range(9):\n",
    "    plt.subplot(330+1+i)\n",
    "    \n",
    "    plt.imshow(trainX[i],cmap=plt.get_cmap('Greys_r'))\n",
    "    \n",
    "    \n",
    "plt.show()"
   ]
  },
  {
   "cell_type": "markdown",
   "metadata": {},
   "source": [
    "MNIST stands for the  Modified National Institute for Standards and Technology. It is a dataset of 60,000 28x28 pix greyscale images of handwritten digits between 0-9. \n",
    "\n",
    "The task is to classify a given image of a handwritten digit into one fo 10 classes representing integer values from 0-9, inclusively.\n",
    "\n",
    "Its a widely used dataset and is deeply understood as solved, i.e top performing models are deep learning convolutional networks that achieve a classification accuracy of 99% with an error rate between 0.2% to 0.4% on the test dataset."
   ]
  },
  {
   "cell_type": "markdown",
   "metadata": {},
   "source": [
    "We can develop the test-harness in five modular parts so that each can be developed independently and can be switched out for an improved or modified version.\n"
   ]
  },
  {
   "cell_type": "markdown",
   "metadata": {},
   "source": [
    "## Load Dataset"
   ]
  },
  {
   "cell_type": "code",
   "execution_count": 4,
   "metadata": {},
   "outputs": [],
   "source": [
    "def load_data():\n",
    "    #load dataset\n",
    "    (trainX,trainY),(testX,testY) = mnist.load_data()\n",
    "\n",
    "    #reshape dataset to have a single channel\n",
    "    trainX = trainX.reshape((trainX.shape[0],28,28,1))\n",
    "    testX = testX.reshape((testX.shape[0],28,28,1))\n",
    "    #trainX = trainX.reshape(trainX.shape)\n",
    "    #testX = testX.reshape(testX.shape)\n",
    "\n",
    "    #one hot encode target values\n",
    "    trainY = to_categorical(trainY)\n",
    "    testY = to_categorical(testY)\n",
    "    \n",
    "    return trainX,trainY,testX,testY\n"
   ]
  },
  {
   "cell_type": "code",
   "execution_count": 5,
   "metadata": {},
   "outputs": [],
   "source": [
    "#1. load the datasets\n",
    "trainX,trainY,textX,testY = load_data()\n",
    "    "
   ]
  },
  {
   "cell_type": "markdown",
   "metadata": {},
   "source": [
    "## Preparing Data"
   ]
  },
  {
   "cell_type": "code",
   "execution_count": 6,
   "metadata": {},
   "outputs": [],
   "source": [
    "#function to normalize pixel values in each picture so that it is easier to use the data uniformly\n",
    "def prep_pixels(train,test):\n",
    "    #int to float\n",
    "    \n",
    "    train_norm = train.astype('float32')\n",
    "    test_norm = test.astype('float32')\n",
    "    \n",
    "    #div by max pixel val 255 to normalize btw 0-1 values\n",
    "    \n",
    "    train_norm = train_norm/255.0\n",
    "    test_norm = test_norm/255.0\n",
    "    \n",
    "    return train_norm,test_norm\n",
    "    \n",
    "    \n",
    "    \n",
    "    \n",
    "    "
   ]
  },
  {
   "cell_type": "markdown",
   "metadata": {},
   "source": [
    "## Defining Model"
   ]
  },
  {
   "cell_type": "markdown",
   "metadata": {},
   "source": []
  },
  {
   "cell_type": "code",
   "execution_count": 7,
   "metadata": {},
   "outputs": [],
   "source": [
    "def Define_Model():\n",
    "    \n",
    "    #design the model\n",
    "    model = Sequential()\n",
    "    \n",
    "    #CNN with 32 filters of 3x3 \n",
    "    model.add(Conv2D(32,(3,3),activation='relu',kernel_initializer='he_uniform',input_shape=(28,28,1)))\n",
    "    #followed by a max pooling layer\n",
    "    model.add(MaxPooling2D((2,2)))\n",
    "    #then flatten to add features to the classifier\n",
    "    model.add(Flatten())\n",
    "    \n",
    "    #this layer is a feature extractor layer between the \n",
    "    model.add(Dense(100,activation='relu',kernel_initializer='he_uniform'))\n",
    "    \n",
    "    #final output layer of 10 classes, will also need a softmax actiation func to normalize the (non-normalized)vector output of the\n",
    "    #prev layers into a probability distribution between zero and one to map them over the predicted output classes.\n",
    "    model.add(Dense(10,activation='softmax'))\n",
    "    \n",
    "    \n",
    "    #complile the model\n",
    "    #keeping the learning rate to 0.01(adjustment rate after each fail)\n",
    "    #SGD = stochastic gradient descent optimizer\n",
    "    opt = SGD(lr=0.01,momentum=0.9)\n",
    "    \n",
    "    model.compile(optimizer=opt,loss='categorical_crossentropy',metrics=['accuracy'])\n",
    "    \n",
    "    return model\n"
   ]
  },
  {
   "cell_type": "markdown",
   "metadata": {},
   "source": [
    "## Evaluating the Model"
   ]
  },
  {
   "cell_type": "markdown",
   "metadata": {},
   "source": [
    "After designing the model, choosing the appropriate activation functions and setting the constant values for the Stochastic Gradient Descent optimizer, we evaluate the model.\n",
    "\n",
    "Evaluationg the  model is the stage in which the model is run against smaller sets of the data in a train-test cycle. this is done:\n",
    "    1. because we don't always have a lot of data, and it's good to make the most of the data we've got. and,\n",
    "    \n",
    "    2. in this type of evaluation(cross-validation), the parent training data-set is shuffled before being split so that we can get a similar set of train-test data to train the model on every iteration.\n",
    "\n",
    "    3. in this tutorial we use a five fold cross-validation method(k=5), this allows the training data set to be divided into roughly 12000 sample-sets (each set 20%) that's close enough to the size of the actual test-data set"
   ]
  },
  {
   "cell_type": "markdown",
   "metadata": {},
   "source": [
    "we set the model to train for 10 epochs, with 32 examples per batch, the divided sample-sets have their own test-data which will be set against the model to evaluate it's learning after each epoch. We can then plot the learning curve and estimate the performance of the model and the classification accuracy of the model.\n"
   ]
  },
  {
   "cell_type": "code",
   "execution_count": 8,
   "metadata": {},
   "outputs": [],
   "source": [
    "def evaluate_model(model,dataX,dataY,n_folds=5):\n",
    "    scores, histories = list(),list()\n",
    "    \n",
    "    kfold = KFold(n_folds,shuffle=True, random_state=1)\n",
    "    \n",
    "    for train_ix,test_ix in kfold.split(dataX):\n",
    "        trainX,trainY,testX,testY = dataX[train_ix],dataY[train_ix],dataX[test_ix],dataY[test_ix]\n",
    "        \n",
    "        #fit the model\n",
    "        print(\"model.fit Verbose Log starts here:\")\n",
    "        history = model.fit(trainX,trainY,epochs=10,batch_size=32,validation_data=(testX,testY),verbose=1)\n",
    "        \n",
    "        print(\"model.fit Verbose Log ends here.\")\n",
    "        \n",
    "        print(\" model.evaluate Log starts here.\")\n",
    "        acc = model.evaluate(testX,testY,verbose=1)\n",
    "        print(\" model.evaluate Log ends here.\")\n",
    "        \n",
    "        _, acc = model.evaluate(testX, testY, verbose=0)\n",
    "        print('> %.3f' % (acc * 100.0))\n",
    "        \n",
    "        scores.append(acc)\n",
    "        histories.append(history)\n",
    "        \n",
    "    \n",
    "    return scores,histories   "
   ]
  },
  {
   "cell_type": "markdown",
   "metadata": {},
   "source": [
    "## Present Results"
   ]
  },
  {
   "cell_type": "markdown",
   "metadata": {},
   "source": [
    "The fifth and final part of the tutorial is the presentation of the results. These contain 2 parts:\n",
    "1. The diagnostics of the learning model\n",
    "2. The estimation/evaluation of the model perfomance\n",
    "\n",
    "These can be implemented using 2 diff functions"
   ]
  },
  {
   "cell_type": "code",
   "execution_count": 9,
   "metadata": {},
   "outputs": [],
   "source": [
    "def summarize_diagnostics(histories):\n",
    "    for i in range(len(histories)):\n",
    "        #loss\n",
    "        plt.subplot(211)\n",
    "        plt.title('Cross Entropy Loss:')\n",
    "        plt.plot(histories[i].history['loss'],color='blue',label='train')\n",
    "        plt.plot(histories[i].history['val_loss'],color='orange',label='test')\n",
    "        \n",
    "        #accuracy\n",
    "        plt.subplot(212)\n",
    "        plt.title('Classification Accuracy:')\n",
    "        plt.plot(histories[i].history['acc'],color='blue',label='train')\n",
    "        plt.plot(histories[i].history['val_acc'],color='orange',label='test')\n",
    "    plt.show()"
   ]
  },
  {
   "cell_type": "code",
   "execution_count": 10,
   "metadata": {},
   "outputs": [],
   "source": [
    "def summarize_performance(scores):\n",
    "    print('Accuracy: mean=%.3f std=%.3f n=%d' % (mean(scores)*100,std(scores)*100,len(scores)))\n",
    "    \n",
    "    plt.boxplot(scores)\n",
    "    plt.show()"
   ]
  },
  {
   "cell_type": "markdown",
   "metadata": {},
   "source": [
    "And finally the control function: called the Test_Harness\n"
   ]
  },
  {
   "cell_type": "code",
   "execution_count": 11,
   "metadata": {},
   "outputs": [],
   "source": [
    "def run_test_harness():\n",
    "    \n",
    "    #1. load the datasets\n",
    "    trainX,trainY,testX,testY = load_data()\n",
    "    \n",
    "    #2. prepare the pixel data\n",
    "    trainX,testX = prep_pixels(trainX,testX)\n",
    "    \n",
    "    #3. prepare and design the model\n",
    "    model = Define_Model()\n",
    "    \n",
    "    \n",
    "    #4. evaluate the model\n",
    "    scores,histories = evaluate_model(model,trainX,trainY)\n",
    "    \n",
    "    #5. summarize/report the performance\n",
    "    summarize_diagnostics(histories)\n",
    "    \n",
    "    summarize_performance(scores)\n",
    "    \n",
    "    # save model\n",
    "    model.save('final_model.h5')\n",
    "    \n",
    "    "
   ]
  },
  {
   "cell_type": "code",
   "execution_count": 12,
   "metadata": {
    "scrolled": false
   },
   "outputs": [
    {
     "name": "stdout",
     "output_type": "stream",
     "text": [
      "WARNING:tensorflow:From c:\\python37\\lib\\site-packages\\keras\\backend\\tensorflow_backend.py:66: The name tf.get_default_graph is deprecated. Please use tf.compat.v1.get_default_graph instead.\n",
      "\n",
      "WARNING:tensorflow:From c:\\python37\\lib\\site-packages\\keras\\backend\\tensorflow_backend.py:541: The name tf.placeholder is deprecated. Please use tf.compat.v1.placeholder instead.\n",
      "\n",
      "WARNING:tensorflow:From c:\\python37\\lib\\site-packages\\keras\\backend\\tensorflow_backend.py:4432: The name tf.random_uniform is deprecated. Please use tf.random.uniform instead.\n",
      "\n",
      "WARNING:tensorflow:From c:\\python37\\lib\\site-packages\\keras\\backend\\tensorflow_backend.py:4267: The name tf.nn.max_pool is deprecated. Please use tf.nn.max_pool2d instead.\n",
      "\n",
      "WARNING:tensorflow:From c:\\python37\\lib\\site-packages\\keras\\optimizers.py:793: The name tf.train.Optimizer is deprecated. Please use tf.compat.v1.train.Optimizer instead.\n",
      "\n",
      "WARNING:tensorflow:From c:\\python37\\lib\\site-packages\\keras\\backend\\tensorflow_backend.py:3576: The name tf.log is deprecated. Please use tf.math.log instead.\n",
      "\n",
      "model.fit Verbose Log starts here:\n",
      "WARNING:tensorflow:From c:\\python37\\lib\\site-packages\\tensorflow\\python\\ops\\math_grad.py:1250: add_dispatch_support.<locals>.wrapper (from tensorflow.python.ops.array_ops) is deprecated and will be removed in a future version.\n",
      "Instructions for updating:\n",
      "Use tf.where in 2.0, which has the same broadcast rule as np.where\n",
      "WARNING:tensorflow:From c:\\python37\\lib\\site-packages\\keras\\backend\\tensorflow_backend.py:1033: The name tf.assign_add is deprecated. Please use tf.compat.v1.assign_add instead.\n",
      "\n",
      "Train on 48000 samples, validate on 12000 samples\n",
      "Epoch 1/10\n",
      "48000/48000 [==============================] - 35s 730us/step - loss: 0.1780 - acc: 0.9458 - val_loss: 0.0928 - val_acc: 0.9712\n",
      "Epoch 2/10\n",
      "48000/48000 [==============================] - 33s 681us/step - loss: 0.0594 - acc: 0.9821 - val_loss: 0.0657 - val_acc: 0.9798\n",
      "Epoch 3/10\n",
      "48000/48000 [==============================] - 33s 688us/step - loss: 0.0375 - acc: 0.9886 - val_loss: 0.0629 - val_acc: 0.9808\n",
      "Epoch 4/10\n",
      "48000/48000 [==============================] - 31s 655us/step - loss: 0.0253 - acc: 0.9922 - val_loss: 0.0588 - val_acc: 0.9828\n",
      "Epoch 5/10\n",
      "40896/48000 [========================>.....] - ETA: 3s - loss: 0.0172 - acc: 0.9952Epoch 8/10\n",
      "48000/48000 [==============================] - 26s 544us/step - loss: 0.0054 - acc: 0.9991 - val_loss: 0.0575 - val_acc: 0.9848\n",
      "Epoch 9/10\n",
      "48000/48000 [==============================] - 26s 546us/step - loss: 0.0038 - acc: 0.9993 - val_loss: 0.0583 - val_acc: 0.9852\n",
      "Epoch 10/10\n",
      "48000/48000 [==============================] - 26s 542us/step - loss: 0.0024 - acc: 0.9997 - val_loss: 0.0619 - val_acc: 0.9848\n",
      "model.fit Verbose Log ends here.\n",
      " model.evaluate Log starts here.\n",
      "12000/12000 [==============================] - 2s 141us/step\n",
      " model.evaluate Log ends here.\n",
      "> 98.483\n",
      "model.fit Verbose Log starts here:\n",
      "Train on 48000 samples, validate on 12000 samples\n",
      "Epoch 1/10\n",
      "48000/48000 [==============================] - 25s 530us/step - loss: 0.0230 - acc: 0.9938 - val_loss: 0.0082 - val_acc: 0.9984\n",
      "Epoch 2/10\n",
      "48000/48000 [==============================] - 39s 806us/step - loss: 0.0113 - acc: 0.9970 - val_loss: 0.0097 - val_acc: 0.9968\n",
      "Epoch 3/10\n",
      "48000/48000 [==============================] - 36s 745us/step - loss: 0.0067 - acc: 0.9982 - val_loss: 0.0095 - val_acc: 0.9973\n",
      "Epoch 4/10\n",
      "48000/48000 [==============================] - 30s 625us/step - loss: 0.0014 - acc: 0.9999 - val_loss: 0.0053 - val_acc: 0.9982\n",
      "Epoch 7/10\n",
      "48000/48000 [==============================] - 39s 802us/step - loss: 0.0010 - acc: 1.0000 - val_loss: 0.0050 - val_acc: 0.9981\n",
      "Epoch 8/10\n",
      "48000/48000 [==============================] - 39s 810us/step - loss: 8.8598e-04 - acc: 1.0000 - val_loss: 0.0049 - val_acc: 0.9982\n",
      "Epoch 9/10\n",
      "48000/48000 [==============================] - 36s 748us/step - loss: 8.0400e-04 - acc: 1.0000 - val_loss: 0.0053 - val_acc: 0.9982\n",
      "Epoch 10/10\n",
      "48000/48000 [==============================] - 40s 838us/step - loss: 7.5098e-04 - acc: 1.0000 - val_loss: 0.0053 - val_acc: 0.9979\n",
      "model.fit Verbose Log ends here.\n",
      " model.evaluate Log starts here.\n",
      "12000/12000 [==============================] - 2s 203us/step\n",
      " model.evaluate Log ends here.\n",
      "> 99.792\n",
      "model.fit Verbose Log starts here:\n",
      "Train on 48000 samples, validate on 12000 samples\n",
      "Epoch 1/10\n",
      "48000/48000 [==============================] - 33s 696us/step - loss: 0.0044 - acc: 0.9988 - val_loss: 0.0034 - val_acc: 0.9991\n",
      "Epoch 2/10\n",
      "48000/48000 [==============================] - 34s 708us/step - loss: 0.0018 - acc: 0.9998 - val_loss: 9.9527e-04 - val_acc: 0.9999\n",
      "Epoch 3/10\n",
      "48000/48000 [==============================] - 34s 702us/step - loss: 8.8761e-04 - acc: 1.0000 - val_loss: 7.8479e-04 - val_acc: 1.0000\n",
      "Epoch 4/10\n",
      "48000/48000 [==============================] - 35s 723us/step - loss: 7.2956e-04 - acc: 1.0000 - val_loss: 7.7048e-04 - val_acc: 1.0000TA: 0s - loss: 7.3738e-04\n",
      "Epoch 5/10\n",
      "48000/48000 [==============================] - 34s 712us/step - loss: 6.5932e-04 - acc: 1.0000 - val_loss: 7.8337e-04 - val_acc: 1.0000\n",
      "Epoch 6/10\n",
      "48000/48000 [==============================] - 34s 700us/step - loss: 6.2364e-04 - acc: 1.0000 - val_loss: 7.4973e-04 - val_acc: 1.0000\n",
      "Epoch 7/10\n",
      "48000/48000 [==============================] - 34s 719us/step - loss: 5.9439e-04 - acc: 1.0000 - val_loss: 7.0389e-04 - val_acc: 1.0000\n",
      "Epoch 8/10\n",
      "48000/48000 [==============================] - 32s 657us/step - loss: 5.7558e-04 - acc: 1.0000 - val_loss: 7.1670e-04 - val_acc: 1.0000\n",
      "Epoch 9/10\n",
      "48000/48000 [==============================] - 33s 684us/step - loss: 5.5758e-04 - acc: 1.0000 - val_loss: 6.8423e-04 - val_acc: 1.0000\n",
      "Epoch 10/10\n",
      "48000/48000 [==============================] - 32s 674us/step - loss: 5.4197e-04 - acc: 1.0000 - val_loss: 7.4096e-04 - val_acc: 1.0000\n",
      "model.fit Verbose Log ends here.\n",
      " model.evaluate Log starts here.\n",
      "12000/12000 [==============================] - 3s 208us/step\n",
      " model.evaluate Log ends here.\n",
      "> 100.000\n",
      "model.fit Verbose Log starts here:\n",
      "Train on 48000 samples, validate on 12000 samples\n",
      "Epoch 1/10\n",
      "48000/48000 [==============================] - 37s 764us/step - loss: 9.7905e-04 - acc: 0.9999 - val_loss: 1.7818e-04 - val_acc: 1.0000\n",
      "Epoch 2/10\n",
      "48000/48000 [==============================] - 37s 776us/step - loss: 6.0221e-04 - acc: 1.0000 - val_loss: 1.7493e-04 - val_acc: 1.0000\n",
      "Epoch 3/10\n",
      "48000/48000 [==============================] - 36s 758us/step - loss: 5.5594e-04 - acc: 1.0000 - val_loss: 1.6288e-04 - val_acc: 1.0000\n",
      "Epoch 4/10\n",
      "48000/48000 [==============================] - 39s 806us/step - loss: 5.3392e-04 - acc: 1.0000 - val_loss: 1.6047e-04 - val_acc: 1.0000\n",
      "Epoch 5/10\n",
      "48000/48000 [==============================] - 44s 917us/step - loss: 5.1994e-04 - acc: 1.0000 - val_loss: 1.6203e-04 - val_acc: 1.0000\n",
      "Epoch 6/10\n",
      "48000/48000 [==============================] - 40s 843us/step - loss: 5.0756e-04 - acc: 1.0000 - val_loss: 1.5664e-04 - val_acc: 1.0000\n",
      "Epoch 7/10\n",
      "48000/48000 [==============================] - 37s 774us/step - loss: 4.9642e-04 - acc: 1.0000 - val_loss: 1.6796e-04 - val_acc: 1.0000\n",
      "Epoch 8/10\n",
      "48000/48000 [==============================] - 34s 700us/step - loss: 4.8928e-04 - acc: 1.0000 - val_loss: 1.6545e-04 - val_acc: 1.0000\n",
      "Epoch 9/10\n",
      "48000/48000 [==============================] - 29s 595us/step - loss: 4.8157e-04 - acc: 1.0000 - val_loss: 1.6115e-04 - val_acc: 1.0000\n",
      "Epoch 10/10\n",
      "48000/48000 [==============================] - 38s 792us/step - loss: 4.7498e-04 - acc: 1.0000 - val_loss: 1.5871e-04 - val_acc: 1.0000\n",
      "model.fit Verbose Log ends here.\n",
      " model.evaluate Log starts here.\n",
      "12000/12000 [==============================] - 2s 190us/step\n",
      " model.evaluate Log ends here.\n",
      "> 100.000\n",
      "model.fit Verbose Log starts here:\n",
      "Train on 48000 samples, validate on 12000 samples\n",
      "Epoch 1/10\n",
      "48000/48000 [==============================] - 40s 839us/step - loss: 4.8836e-04 - acc: 1.0000 - val_loss: 9.6986e-05 - val_acc: 1.0000\n",
      "Epoch 2/10\n",
      "48000/48000 [==============================] - 31s 639us/step - loss: 4.7372e-04 - acc: 1.0000 - val_loss: 9.7344e-05 - val_acc: 1.0000\n",
      "Epoch 3/10\n"
     ]
    },
    {
     "name": "stdout",
     "output_type": "stream",
     "text": [
      "48000/48000 [==============================] - 30s 631us/step - loss: 4.6669e-04 - acc: 1.0000 - val_loss: 1.0090e-04 - val_acc: 1.0000\n",
      "Epoch 4/10\n",
      "48000/48000 [==============================] - 27s 558us/step - loss: 4.6022e-04 - acc: 1.0000 - val_loss: 1.0435e-04 - val_acc: 1.0000\n",
      "Epoch 5/10\n",
      "48000/48000 [==============================] - 27s 559us/step - loss: 4.5467e-04 - acc: 1.0000 - val_loss: 1.0280e-04 - val_acc: 1.0000\n",
      "Epoch 6/10\n",
      "48000/48000 [==============================] - 27s 559us/step - loss: 4.4978e-04 - acc: 1.0000 - val_loss: 1.0693e-04 - val_acc: 1.0000\n",
      "Epoch 7/10\n",
      "48000/48000 [==============================] - 27s 570us/step - loss: 4.4527e-04 - acc: 1.0000 - val_loss: 1.0888e-04 - val_acc: 1.0000\n",
      "Epoch 8/10\n",
      "48000/48000 [==============================] - 27s 556us/step - loss: 4.4090e-04 - acc: 1.0000 - val_loss: 1.1231e-04 - val_acc: 1.0000\n",
      "Epoch 9/10\n",
      "48000/48000 [==============================] - 26s 547us/step - loss: 4.3694e-04 - acc: 1.0000 - val_loss: 1.1142e-04 - val_acc: 1.0000\n",
      "Epoch 10/10\n",
      "48000/48000 [==============================] - 28s 582us/step - loss: 4.3497e-04 - acc: 1.0000 - val_loss: 1.1405e-04 - val_acc: 1.0000\n",
      "model.fit Verbose Log ends here.\n",
      " model.evaluate Log starts here.\n",
      "12000/12000 [==============================] - 2s 142us/step\n",
      " model.evaluate Log ends here.\n",
      "> 100.000\n"
     ]
    },
    {
     "name": "stderr",
     "output_type": "stream",
     "text": [
      "c:\\python37\\lib\\site-packages\\ipykernel_launcher.py:4: MatplotlibDeprecationWarning: Adding an axes using the same arguments as a previous axes currently reuses the earlier instance.  In a future version, a new instance will always be created and returned.  Meanwhile, this warning can be suppressed, and the future behavior ensured, by passing a unique label to each axes instance.\n",
      "  after removing the cwd from sys.path.\n",
      "c:\\python37\\lib\\site-packages\\ipykernel_launcher.py:10: MatplotlibDeprecationWarning: Adding an axes using the same arguments as a previous axes currently reuses the earlier instance.  In a future version, a new instance will always be created and returned.  Meanwhile, this warning can be suppressed, and the future behavior ensured, by passing a unique label to each axes instance.\n",
      "  # Remove the CWD from sys.path while we load stuff.\n"
     ]
    },
    {
     "data": {
      "image/png": "[encoded data removed]",
      "text/plain": [
       "<Figure size 432x288 with 2 Axes>"
      ]
     },
     "metadata": {
      "needs_background": "light"
     },
     "output_type": "display_data"
    },
    {
     "name": "stdout",
     "output_type": "stream",
     "text": [
      "Accuracy: mean=99.655 std=0.591 n=5\n"
     ]
    },
    {
     "data": {
      "image/png": "[encoded data removed]",
      "text/plain": [
       "<Figure size 432x288 with 1 Axes>"
      ]
     },
     "metadata": {
      "needs_background": "light"
     },
     "output_type": "display_data"
    }
   ],
   "source": [
    "run_test_harness()"
   ]
  },
  {
   "cell_type": "markdown",
   "metadata": {},
   "source": [
    "## Improving performance with deeper networks"
   ]
  },
  {
   "cell_type": "code",
   "execution_count": null,
   "metadata": {},
   "outputs": [],
   "source": [
    "# deeper cnn model for mnist\n",
    "from numpy import mean\n",
    "from numpy import std\n",
    "from matplotlib import pyplot\n",
    "from sklearn.model_selection import KFold\n",
    "from keras.datasets import mnist\n",
    "from keras.utils import to_categorical\n",
    "from keras.models import Sequential\n",
    "from keras.layers import Conv2D\n",
    "from keras.layers import MaxPooling2D\n",
    "from keras.layers import Dense\n",
    "from keras.layers import Flatten\n",
    "from keras.optimizers import SGD\n",
    "\n",
    "# load train and test dataset\n",
    "def load_dataset():\n",
    "\t# load dataset\n",
    "\t(trainX, trainY), (testX, testY) = mnist.load_data()\n",
    "\t# reshape dataset to have a single channel\n",
    "\ttrainX = trainX.reshape((trainX.shape[0], 28, 28, 1))\n",
    "\ttestX = testX.reshape((testX.shape[0], 28, 28, 1))\n",
    "\t# one hot encode target values\n",
    "\ttrainY = to_categorical(trainY)\n",
    "\ttestY = to_categorical(testY)\n",
    "\treturn trainX, trainY, testX, testY\n",
    "\n",
    "# scale pixels\n",
    "def prep_pixels(train, test):\n",
    "\t# convert from integers to floats\n",
    "\ttrain_norm = train.astype('float32')\n",
    "\ttest_norm = test.astype('float32')\n",
    "\t# normalize to range 0-1\n",
    "\ttrain_norm = train_norm / 255.0\n",
    "\ttest_norm = test_norm / 255.0\n",
    "\t# return normalized images\n",
    "\treturn train_norm, test_norm\n",
    "\n",
    "# define cnn model\n",
    "def define_model():\n",
    "\tmodel = Sequential()\n",
    "\tmodel.add(Conv2D(32, (3, 3), activation='relu', kernel_initializer='he_uniform', input_shape=(28, 28, 1)))\n",
    "\tmodel.add(MaxPooling2D((2, 2)))\n",
    "\tmodel.add(Conv2D(64, (3, 3), activation='relu', kernel_initializer='he_uniform'))\n",
    "\tmodel.add(Conv2D(64, (3, 3), activation='relu', kernel_initializer='he_uniform'))\n",
    "\tmodel.add(MaxPooling2D((2, 2)))\n",
    "\tmodel.add(Flatten())\n",
    "\tmodel.add(Dense(100, activation='relu', kernel_initializer='he_uniform'))\n",
    "\tmodel.add(Dense(10, activation='softmax'))\n",
    "\t# compile model\n",
    "\topt = SGD(lr=0.01, momentum=0.9)\n",
    "\tmodel.compile(optimizer=opt, loss='categorical_crossentropy', metrics=['accuracy'])\n",
    "\treturn model\n",
    "\n",
    "# evaluate a model using k-fold cross-validation\n",
    "def evaluate_model(model, dataX, dataY, n_folds=5):\n",
    "\tscores, histories = list(), list()\n",
    "\t# prepare cross validation\n",
    "\tkfold = KFold(n_folds, shuffle=True, random_state=1)\n",
    "\t# enumerate splits\n",
    "\tfor train_ix, test_ix in kfold.split(dataX):\n",
    "\t\t# select rows for train and test\n",
    "\t\ttrainX, trainY, testX, testY = dataX[train_ix], dataY[train_ix], dataX[test_ix], dataY[test_ix]\n",
    "\t\t# fit model\n",
    "\t\thistory = model.fit(trainX, trainY, epochs=10, batch_size=32, validation_data=(testX, testY), verbose=0)\n",
    "\t\t# evaluate model\n",
    "\t\t_, acc = model.evaluate(testX, testY, verbose=0)\n",
    "\t\tprint('> %.3f' % (acc * 100.0))\n",
    "\t\t# stores scores\n",
    "\t\tscores.append(acc)\n",
    "\t\thistories.append(history)\n",
    "\treturn scores, histories\n",
    "\n",
    "# plot diagnostic learning curves\n",
    "def summarize_diagnostics(histories):\n",
    "\tfor i in range(len(histories)):\n",
    "\t\t# plot loss\n",
    "\t\tpyplot.subplot(211)\n",
    "\t\tpyplot.title('Cross Entropy Loss')\n",
    "\t\tpyplot.plot(histories[i].history['loss'], color='blue', label='train')\n",
    "\t\tpyplot.plot(histories[i].history['val_loss'], color='orange', label='test')\n",
    "\t\t# plot accuracy\n",
    "\t\tpyplot.subplot(212)\n",
    "\t\tpyplot.title('Classification Accuracy')\n",
    "\t\tpyplot.plot(histories[i].history['acc'], color='blue', label='train')\n",
    "\t\tpyplot.plot(histories[i].history['val_acc'], color='orange', label='test')\n",
    "\tpyplot.show()\n",
    "\n",
    "# summarize model performance\n",
    "def summarize_performance(scores):\n",
    "\t# print summary\n",
    "\tprint('Accuracy: mean=%.3f std=%.3f, n=%d' % (mean(scores)*100, std(scores)*100, len(scores)))\n",
    "\t# box and whisker plots of results\n",
    "\tpyplot.boxplot(scores)\n",
    "\tpyplot.show()\n",
    "\n",
    "# run the test harness for evaluating a model\n",
    "def run_eval_test_harness():\n",
    "\t# load dataset\n",
    "\ttrainX, trainY, testX, testY = load_dataset()\n",
    "\t# prepare pixel data\n",
    "\ttrainX, testX = prep_pixels(trainX, testX)\n",
    "\t# define model\n",
    "\tmodel = define_model()\n",
    "\t# evaluate model\n",
    "\tscores, histories = evaluate_model(model, trainX, trainY)\n",
    "\t# learning curves\n",
    "\tsummarize_diagnostics(histories)\n",
    "\t# summarize estimated performance\n",
    "\tsummarize_performance(scores)\n",
    "    \n",
    "def run_fit_test_harness():\n",
    "    # load dataset\n",
    "\ttrainX, trainY, testX, testY = load_dataset()\n",
    "\t# prepare pixel data\n",
    "\ttrainX, testX = prep_pixels(trainX, testX)\n",
    "\t# define model\n",
    "\tmodel = define_model()\n",
    "    # fit model\n",
    "\tmodel.fit(trainX, trainY, epochs=10, batch_size=32, verbose=0)\n",
    "\t# save model\n",
    "\tmodel.save('final_model.h5')\n",
    "\n",
    "# entry point, run the test harness\n",
    "run_test_harness()"
   ]
  },
  {
   "cell_type": "markdown",
   "metadata": {},
   "source": [
    "## Prediction - Time"
   ]
  },
  {
   "cell_type": "code",
   "execution_count": null,
   "metadata": {},
   "outputs": [],
   "source": [
    "# make a prediction for a new image.\n",
    "from keras.preprocessing.image import load_img\n",
    "from keras.preprocessing.image import img_to_array\n",
    "from keras.models import load_model\n",
    "\n",
    "# load and prepare the image\n",
    "def load_image(filename):\n",
    "\t# load the image\n",
    "\timg = load_img(filename, grayscale=True, target_size=(28, 28))\n",
    "\t# convert to array\n",
    "\timg = img_to_array(img)\n",
    "\t# reshape into a single sample with 1 channel\n",
    "\timg = img.reshape(1, 28, 28, 1)\n",
    "\t# prepare pixel data\n",
    "\timg = img.astype('float32')\n",
    "\timg = img / 255.0\n",
    "\treturn img\n",
    "\n",
    "# load an image and predict the class\n",
    "def run_example():\n",
    "\t# load the image\n",
    "\timg = load_image('MNIST_sample_image.png')\n",
    "\t# load model\n",
    "\tmodel = load_model('final_model.h5')\n",
    "\t# predict the class\n",
    "\tdigit = model.predict_classes(img)\n",
    "\tprint(digit[0])\n",
    "\n",
    "# entry point, run the example\n",
    "run_example()"
   ]
  }
 ],
 "metadata": {
  "kernelspec": {
   "display_name": "Python 3",
   "language": "python",
   "name": "python3"
  },
  "language_info": {
   "codemirror_mode": {
    "name": "ipython",
    "version": 3
   },
   "file_extension": ".py",
   "mimetype": "text/x-python",
   "name": "python",
   "nbconvert_exporter": "python",
   "pygments_lexer": "ipython3",
   "version": "3.7.0"
  }
 },
 "nbformat": 4,
 "nbformat_minor": 2
}
